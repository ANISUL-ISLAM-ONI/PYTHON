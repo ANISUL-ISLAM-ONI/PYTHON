{
  "nbformat": 4,
  "nbformat_minor": 0,
  "metadata": {
    "colab": {
      "name": "B2_CT_2_18101079.ipynb",
      "provenance": [],
      "collapsed_sections": [],
      "authorship_tag": "ABX9TyMMko1Hh2EXY7OISWo1oBuf",
      "include_colab_link": true
    },
    "kernelspec": {
      "name": "python3",
      "display_name": "Python 3"
    }
  },
  "cells": [
    {
      "cell_type": "markdown",
      "metadata": {
        "id": "view-in-github",
        "colab_type": "text"
      },
      "source": [
        "<a href=\"https://colab.research.google.com/github/ANISUL-ISLAM-ONI/PYTHON/blob/LAB/B2_CT_2_18101079.ipynb\" target=\"_parent\"><img src=\"https://colab.research.google.com/assets/colab-badge.svg\" alt=\"Open In Colab\"/></a>"
      ]
    },
    {
      "cell_type": "markdown",
      "metadata": {
        "id": "SpXGbPAoc8D7",
        "colab_type": "text"
      },
      "source": [
        "#PROBLEM 1"
      ]
    },
    {
      "cell_type": "code",
      "metadata": {
        "colab_type": "code",
        "id": "x4TSzlufdMLO",
        "colab": {
          "base_uri": "https://localhost:8080/",
          "height": 85
        },
        "outputId": "f3acceb4-9a03-43ed-d501-9329da0b050b"
      },
      "source": [
        "marks = eval(input('Input:\\n'))\n",
        "print('Output:')\n",
        "if marks < 40 :\n",
        "  print('F')\n",
        "elif marks >= 40 and marks < 45 :\n",
        "  print('D')\n",
        "elif marks >= 45 and marks < 50 :\n",
        "  print('C')\n",
        "elif marks >= 50 and marks < 55 :\n",
        "  print('C+')\n",
        "elif marks >= 55 and marks < 60 :\n",
        "  print('B-')\n",
        "elif marks >= 60 and marks < 65 :\n",
        "  print('B')\n",
        "elif marks >= 65 and marks < 70 :\n",
        "  print('B+')\n",
        "elif marks >= 70 and marks < 75 :\n",
        "  print('A-')\n",
        "elif marks >= 75 and marks < 80 :\n",
        "  print('A')\n",
        "elif marks >= 80 and marks < 101 :\n",
        "  print('A+')\n",
        "else :\n",
        "  print('Above the grade')"
      ],
      "execution_count": null,
      "outputs": [
        {
          "output_type": "stream",
          "text": [
            "Input:\n",
            "55\n",
            "Output:\n",
            "B-\n"
          ],
          "name": "stdout"
        }
      ]
    },
    {
      "cell_type": "markdown",
      "metadata": {
        "id": "Wd_6j8PzdReW",
        "colab_type": "text"
      },
      "source": [
        "#PROBLEM 2"
      ]
    },
    {
      "cell_type": "code",
      "metadata": {
        "id": "rr7B2DXGdZG1",
        "colab_type": "code",
        "colab": {
          "base_uri": "https://localhost:8080/",
          "height": 85
        },
        "outputId": "2e63c338-43e9-4038-b5a2-90137fe75eb7"
      },
      "source": [
        "number = eval(input('Input:\\n'))\n",
        "print('Output:')\n",
        "if number < 0 :\n",
        "  print('Negative')\n",
        "else :\n",
        "  print('Non-negative')"
      ],
      "execution_count": null,
      "outputs": [
        {
          "output_type": "stream",
          "text": [
            "Input:\n",
            "1\n",
            "Output:\n",
            "Non-negative\n"
          ],
          "name": "stdout"
        }
      ]
    },
    {
      "cell_type": "code",
      "metadata": {
        "id": "p7FD1R_5d1Z_",
        "colab_type": "code",
        "colab": {}
      },
      "source": [
        ""
      ],
      "execution_count": null,
      "outputs": []
    },
    {
      "cell_type": "markdown",
      "metadata": {
        "id": "pmVkMShEeAGA",
        "colab_type": "text"
      },
      "source": [
        "#PROBLEM 3"
      ]
    },
    {
      "cell_type": "code",
      "metadata": {
        "id": "DYzVW8HseFqk",
        "colab_type": "code",
        "colab": {
          "base_uri": "https://localhost:8080/",
          "height": 187
        },
        "outputId": "cc008d0e-6f93-46db-e509-049f23865d92"
      },
      "source": [
        "elements = []\n",
        "print('Input:')\n",
        "for i in range(5) :\n",
        "  print('Element ', i+1, ': ', sep='', end='')\n",
        "  temporary = eval(input())\n",
        "  elements.insert(i, temporary)\n",
        "index1 = int(input('Index 1: '))\n",
        "index2 = int(input('Index 2: '))\n",
        "index1 -= 1\n",
        "index2 -= 1\n",
        "print('Output:')\n",
        "if index1 >= 0 and index1 < 5 and index2 >= 0 and index2 < 5 :\n",
        "  temporary = elements[index1]\n",
        "  elements[index1] = elements[index2]\n",
        "  elements[index2] = temporary\n",
        "  print(elements)\n",
        "else :\n",
        "  print('Out of the elements')"
      ],
      "execution_count": null,
      "outputs": [
        {
          "output_type": "stream",
          "text": [
            "Input:\n",
            "Element 1: 10\n",
            "Element 2: 5\n",
            "Element 3: 100\n",
            "Element 4: 4\n",
            "Element 5: 6\n",
            "Index 1:2\n",
            "Index 2:4\n",
            "Output:\n",
            "[10, 4, 100, 5, 6]\n"
          ],
          "name": "stdout"
        }
      ]
    },
    {
      "cell_type": "markdown",
      "metadata": {
        "id": "dOuZRrcKi_25",
        "colab_type": "text"
      },
      "source": [
        "#PROBLEM 5"
      ]
    },
    {
      "cell_type": "code",
      "metadata": {
        "id": "JzUZefFQjCv1",
        "colab_type": "code",
        "colab": {
          "base_uri": "https://localhost:8080/",
          "height": 88
        },
        "outputId": "b06aca83-ee1a-40f3-a3e6-b2b42a83bad9"
      },
      "source": [
        "Employee1 = {\n",
        "    'EmplID' : 77920,\n",
        "    'LastName' : 'Jackson',\n",
        "    'FirstName' : 'Stephen',\n",
        "    'HireDate' : '11-29-1997'\n",
        "}\n",
        "Employee2 = {\n",
        "    'EmplID' : 77921,\n",
        "    'LastName' : 'Reynolds',\n",
        "    'FirstName' : 'Sandy',\n",
        "    'HireDate' : '01-04-1993'\n",
        "}\n",
        "Employee3 = {\n",
        "    'EmplID' : 77922,\n",
        "    'LastName' : 'Armstrong',\n",
        "    'FirstName' : 'Stephen',\n",
        "    'HireDate' : '09-16-1989'\n",
        "}\n",
        "Employee4 = {\n",
        "    'EmplID' : 77923,\n",
        "    'LastName' : 'Jackson',\n",
        "    'FirstName' : 'Linda',\n",
        "    'HireDate' : '10-09-1996'\n",
        "}\n",
        "Employees = {\n",
        "    Employee1['EmplID'] : Employee1,\n",
        "    Employee2['EmplID'] : Employee2,\n",
        "    Employee3['EmplID'] : Employee3,\n",
        "    Employee4['EmplID'] : Employee4\n",
        "}\n",
        "ID = eval(input('Enter the ID you are looking for >> '))\n",
        "if ID >= 77920 and ID <= 77923 :\n",
        "  print('The information of following ID >>')\n",
        "  print(Employees[ID])\n",
        "else :\n",
        "  print('Not Found')"
      ],
      "execution_count": null,
      "outputs": [
        {
          "output_type": "stream",
          "text": [
            "Enter the ID you are looking for >> 77920\n",
            "The information of following ID >>\n",
            "{'EmplID': 77920, 'LastName': 'Jackson', 'FirstName': 'Stephen', 'HireDate': '11-29-1997'}\n"
          ],
          "name": "stdout"
        }
      ]
    },
    {
      "cell_type": "code",
      "metadata": {
        "id": "Y5aA85eBmH5m",
        "colab_type": "code",
        "colab": {}
      },
      "source": [
        ""
      ],
      "execution_count": null,
      "outputs": []
    }
  ]
}