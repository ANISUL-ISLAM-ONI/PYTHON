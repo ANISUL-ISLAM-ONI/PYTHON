{
  "nbformat": 4,
  "nbformat_minor": 0,
  "metadata": {
    "colab": {
      "name": "PYTHON_LAB_3.ipynb",
      "provenance": [],
      "authorship_tag": "ABX9TyMucnPY8FpjEGf8M74Vwdq+",
      "include_colab_link": true
    },
    "kernelspec": {
      "name": "python3",
      "display_name": "Python 3"
    }
  },
  "cells": [
    {
      "cell_type": "markdown",
      "metadata": {
        "id": "view-in-github",
        "colab_type": "text"
      },
      "source": [
        "<a href=\"https://colab.research.google.com/github/ANISUL-ISLAM-ONI/PYTHON/blob/LAB/PYTHON_LAB_3.ipynb\" target=\"_parent\"><img src=\"https://colab.research.google.com/assets/colab-badge.svg\" alt=\"Open In Colab\"/></a>"
      ]
    },
    {
      "cell_type": "code",
      "metadata": {
        "id": "hKMigGjNNj7k",
        "colab_type": "code",
        "colab": {
          "base_uri": "https://localhost:8080/",
          "height": 34
        },
        "outputId": "8ad84874-3a5a-406f-dba2-bd2c51e2e44c"
      },
      "source": [
        "'''\n",
        "This is an even numbers summation program\n",
        "'''\n",
        "i = 2\n",
        "sum = 0\n",
        "while(i < 21) : \n",
        "  sum += i\n",
        "  i += 2\n",
        "print(sum)"
      ],
      "execution_count": null,
      "outputs": [
        {
          "output_type": "stream",
          "text": [
            "110\n"
          ],
          "name": "stdout"
        }
      ]
    },
    {
      "cell_type": "code",
      "metadata": {
        "id": "T2yvb282PZ_V",
        "colab_type": "code",
        "colab": {
          "base_uri": "https://localhost:8080/",
          "height": 34
        },
        "outputId": "eee3021c-1c99-4fb2-f4c1-4d878458e319"
      },
      "source": [
        "'''\n",
        "This is the modified program of prev.\n",
        "'''\n",
        "i = 2\n",
        "sum = 0\n",
        "while(i < 21) :\n",
        "  if i == 20 :\n",
        "    print(i, end='')\n",
        "  else : \n",
        "    print(i, '+', end=' ')\n",
        "  sum += i\n",
        "  i += 2\n",
        "print(' =',sum)"
      ],
      "execution_count": null,
      "outputs": [
        {
          "output_type": "stream",
          "text": [
            "2 + 4 + 6 + 8 + 10 + 12 + 14 + 16 + 18 + 20 = 110\n"
          ],
          "name": "stdout"
        }
      ]
    },
    {
      "cell_type": "code",
      "metadata": {
        "id": "BvJSSH7xR_55",
        "colab_type": "code",
        "colab": {}
      },
      "source": [
        ""
      ],
      "execution_count": null,
      "outputs": []
    },
    {
      "cell_type": "code",
      "metadata": {
        "colab_type": "code",
        "id": "U6URQzG0SG8F",
        "colab": {
          "base_uri": "https://localhost:8080/",
          "height": 68
        },
        "outputId": "6f49c149-c7b4-4d7a-eb3a-b530d261bddf"
      },
      "source": [
        "'''\n",
        "This is the another modified program of prev.\n",
        "'''\n",
        "i = eval(input())\n",
        "en = eval(input())\n",
        "sum = 0\n",
        "while(i <= en) :\n",
        "  if i % 2 == 1 :\n",
        "    i += 1\n",
        "    continue\n",
        "  if en % 2 == 1 :\n",
        "    en -= 1\n",
        "  if i == en :\n",
        "    print(i, end='')\n",
        "  else : \n",
        "    print(i, '+', end=' ')\n",
        "  sum += i\n",
        "  i += 2\n",
        "print(' =',sum)"
      ],
      "execution_count": null,
      "outputs": [
        {
          "output_type": "stream",
          "text": [
            "2\n",
            "50\n",
            "2 + 4 + 6 + 8 + 10 + 12 + 14 + 16 + 18 + 20 + 22 + 24 + 26 + 28 + 30 + 32 + 34 + 36 + 38 + 40 + 42 + 44 + 46 + 48 + 50 = 650\n"
          ],
          "name": "stdout"
        }
      ]
    },
    {
      "cell_type": "code",
      "metadata": {
        "id": "kCP9oKvUSVj0",
        "colab_type": "code",
        "colab": {}
      },
      "source": [
        "'''\n",
        "This is the another modified program of prev using for loop\n",
        "'''\n",
        "i = eval(input())\n",
        "en = eval(input())\n",
        "sum = 0\n",
        "for j in range(i, en, 2) :\n",
        "  if j % 2 == 1 :\n",
        "    j += 1\n",
        "    continue\n",
        "  if en % 2 == 1 :\n",
        "    en -= 1\n",
        "  if j == en :\n",
        "    print(j, end='')\n",
        "  else :\n",
        "    print(j, '+', end=' ')\n",
        "  sum += j\n",
        "print(' =', sum)"
      ],
      "execution_count": null,
      "outputs": []
    }
  ]
}